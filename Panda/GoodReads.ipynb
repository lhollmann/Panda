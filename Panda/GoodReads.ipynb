{
 "cells": [
  {
   "cell_type": "code",
   "execution_count": 1,
   "metadata": {},
   "outputs": [],
   "source": [
    "# Import Dependencies\n",
    "import pandas as pd"
   ]
  },
  {
   "cell_type": "code",
   "execution_count": 2,
   "metadata": {},
   "outputs": [],
   "source": [
    "# Make a reference to the books.csv file path\n",
    "bookSheet = \"Resources/books.csv\"\n",
    "# Import the books.csv file as a DataFrame\n",
    "bookDF = pd.read_csv(bookSheet, encoding=\"UTF-8\")"
   ]
  },
  {
   "cell_type": "code",
   "execution_count": 3,
   "metadata": {},
   "outputs": [],
   "source": [
    "# Remove unecessary columns from the DataFrame and save the new DataFrame\n",
    "\n",
    "# Only keep: \"isbn\", \"original_publication_year\", \"original_title\", \"authors\",\n",
    "# \"ratings_1\", \"ratings_2\", \"ratings_3\", \"ratings_4\", \"ratings_5\"\n",
    "\n",
    "bookDF = bookDF[[\"isbn\", \"original_publication_year\", \"original_title\", \"authors\", \"ratings_1\", \"ratings_2\", \"ratings_3\", \"ratings_4\", \"ratings_5\"]]\n"
   ]
  },
  {
   "cell_type": "code",
   "execution_count": 4,
   "metadata": {},
   "outputs": [
    {
     "data": {
      "text/html": [
       "<div>\n",
       "<style scoped>\n",
       "    .dataframe tbody tr th:only-of-type {\n",
       "        vertical-align: middle;\n",
       "    }\n",
       "\n",
       "    .dataframe tbody tr th {\n",
       "        vertical-align: top;\n",
       "    }\n",
       "\n",
       "    .dataframe thead th {\n",
       "        text-align: right;\n",
       "    }\n",
       "</style>\n",
       "<table border=\"1\" class=\"dataframe\">\n",
       "  <thead>\n",
       "    <tr style=\"text-align: right;\">\n",
       "      <th></th>\n",
       "      <th>ISBN Number</th>\n",
       "      <th>Publication Year</th>\n",
       "      <th>Title</th>\n",
       "      <th>Author(s)</th>\n",
       "      <th>Rating 1</th>\n",
       "      <th>Rating 2</th>\n",
       "      <th>Rating 3</th>\n",
       "      <th>Rating 4</th>\n",
       "      <th>Rating 5</th>\n",
       "    </tr>\n",
       "  </thead>\n",
       "  <tbody>\n",
       "    <tr>\n",
       "      <th>0</th>\n",
       "      <td>439023483</td>\n",
       "      <td>2008.0</td>\n",
       "      <td>The Hunger Games</td>\n",
       "      <td>Suzanne Collins</td>\n",
       "      <td>66715</td>\n",
       "      <td>127936</td>\n",
       "      <td>560092</td>\n",
       "      <td>1481305</td>\n",
       "      <td>2706317</td>\n",
       "    </tr>\n",
       "    <tr>\n",
       "      <th>1</th>\n",
       "      <td>439554934</td>\n",
       "      <td>1997.0</td>\n",
       "      <td>Harry Potter and the Philosopher's Stone</td>\n",
       "      <td>J.K. Rowling, Mary GrandPré</td>\n",
       "      <td>75504</td>\n",
       "      <td>101676</td>\n",
       "      <td>455024</td>\n",
       "      <td>1156318</td>\n",
       "      <td>3011543</td>\n",
       "    </tr>\n",
       "    <tr>\n",
       "      <th>2</th>\n",
       "      <td>316015849</td>\n",
       "      <td>2005.0</td>\n",
       "      <td>Twilight</td>\n",
       "      <td>Stephenie Meyer</td>\n",
       "      <td>456191</td>\n",
       "      <td>436802</td>\n",
       "      <td>793319</td>\n",
       "      <td>875073</td>\n",
       "      <td>1355439</td>\n",
       "    </tr>\n",
       "    <tr>\n",
       "      <th>3</th>\n",
       "      <td>61120081</td>\n",
       "      <td>1960.0</td>\n",
       "      <td>To Kill a Mockingbird</td>\n",
       "      <td>Harper Lee</td>\n",
       "      <td>60427</td>\n",
       "      <td>117415</td>\n",
       "      <td>446835</td>\n",
       "      <td>1001952</td>\n",
       "      <td>1714267</td>\n",
       "    </tr>\n",
       "    <tr>\n",
       "      <th>4</th>\n",
       "      <td>743273567</td>\n",
       "      <td>1925.0</td>\n",
       "      <td>The Great Gatsby</td>\n",
       "      <td>F. Scott Fitzgerald</td>\n",
       "      <td>86236</td>\n",
       "      <td>197621</td>\n",
       "      <td>606158</td>\n",
       "      <td>936012</td>\n",
       "      <td>947718</td>\n",
       "    </tr>\n",
       "  </tbody>\n",
       "</table>\n",
       "</div>"
      ],
      "text/plain": [
       "  ISBN Number  Publication Year                                     Title  \\\n",
       "0   439023483            2008.0                          The Hunger Games   \n",
       "1   439554934            1997.0  Harry Potter and the Philosopher's Stone   \n",
       "2   316015849            2005.0                                  Twilight   \n",
       "3    61120081            1960.0                     To Kill a Mockingbird   \n",
       "4   743273567            1925.0                          The Great Gatsby   \n",
       "\n",
       "                     Author(s)  Rating 1  Rating 2  Rating 3  Rating 4  \\\n",
       "0              Suzanne Collins     66715    127936    560092   1481305   \n",
       "1  J.K. Rowling, Mary GrandPré     75504    101676    455024   1156318   \n",
       "2              Stephenie Meyer    456191    436802    793319    875073   \n",
       "3                   Harper Lee     60427    117415    446835   1001952   \n",
       "4          F. Scott Fitzgerald     86236    197621    606158    936012   \n",
       "\n",
       "   Rating 5  \n",
       "0   2706317  \n",
       "1   3011543  \n",
       "2   1355439  \n",
       "3   1714267  \n",
       "4    947718  "
      ]
     },
     "execution_count": 4,
     "metadata": {},
     "output_type": "execute_result"
    }
   ],
   "source": [
    "# Rename the headers to be more explanatory\n",
    "namedBookDF = bookDF.rename(columns={\"isbn\": \"ISBN Number\", \"original_publication_year\": \"Publication Year\", \"original_title\": \"Title\", \"authors\": \"Author(s)\", \"ratings_1\": \"Rating 1\", \"ratings_2\": \"Rating 2\", \"ratings_3\": \"Rating 3\", \"ratings_4\": \"Rating 4\", \"ratings_5\": \"Rating 5\"})\n",
    "\n",
    "namedBookDF.head()"
   ]
  },
  {
   "cell_type": "code",
   "execution_count": 5,
   "metadata": {},
   "outputs": [
    {
     "data": {
      "text/plain": [
       "array(['Suzanne Collins', 'J.K. Rowling, Mary GrandPré',\n",
       "       'Stephenie Meyer', ..., 'Ian Mortimer', 'Peggy Orenstein',\n",
       "       'John Keegan'], dtype=object)"
      ]
     },
     "execution_count": 5,
     "metadata": {},
     "output_type": "execute_result"
    }
   ],
   "source": [
    "authors = namedBookDF[\"Author(s)\"].unique()\n",
    "authors\n"
   ]
  },
  {
   "cell_type": "code",
   "execution_count": 7,
   "metadata": {},
   "outputs": [
    {
     "data": {
      "text/html": [
       "<div>\n",
       "<style scoped>\n",
       "    .dataframe tbody tr th:only-of-type {\n",
       "        vertical-align: middle;\n",
       "    }\n",
       "\n",
       "    .dataframe tbody tr th {\n",
       "        vertical-align: top;\n",
       "    }\n",
       "\n",
       "    .dataframe thead th {\n",
       "        text-align: right;\n",
       "    }\n",
       "</style>\n",
       "<table border=\"1\" class=\"dataframe\">\n",
       "  <thead>\n",
       "    <tr style=\"text-align: right;\">\n",
       "      <th></th>\n",
       "      <th>ISBN Number</th>\n",
       "      <th>Publication Year</th>\n",
       "      <th>Title</th>\n",
       "      <th>Author(s)</th>\n",
       "      <th>Rating 1</th>\n",
       "      <th>Rating 2</th>\n",
       "      <th>Rating 3</th>\n",
       "      <th>Rating 4</th>\n",
       "      <th>Rating 5</th>\n",
       "    </tr>\n",
       "  </thead>\n",
       "  <tbody>\n",
       "    <tr>\n",
       "      <th>7372</th>\n",
       "      <td>1408857901</td>\n",
       "      <td>2017.0</td>\n",
       "      <td>A Court of Wings and Ruin</td>\n",
       "      <td>Sarah J. Maas</td>\n",
       "      <td>463</td>\n",
       "      <td>1289</td>\n",
       "      <td>5123</td>\n",
       "      <td>15585</td>\n",
       "      <td>46370</td>\n",
       "    </tr>\n",
       "    <tr>\n",
       "      <th>9391</th>\n",
       "      <td>812995341</td>\n",
       "      <td>2017.0</td>\n",
       "      <td>Lincoln in the Bardo</td>\n",
       "      <td>George Saunders</td>\n",
       "      <td>996</td>\n",
       "      <td>1809</td>\n",
       "      <td>4186</td>\n",
       "      <td>7887</td>\n",
       "      <td>9135</td>\n",
       "    </tr>\n",
       "    <tr>\n",
       "      <th>7559</th>\n",
       "      <td>1250095255</td>\n",
       "      <td>2017.0</td>\n",
       "      <td>Caraval</td>\n",
       "      <td>Stephanie Garber</td>\n",
       "      <td>831</td>\n",
       "      <td>2531</td>\n",
       "      <td>7001</td>\n",
       "      <td>12105</td>\n",
       "      <td>13353</td>\n",
       "    </tr>\n",
       "    <tr>\n",
       "      <th>5883</th>\n",
       "      <td>NaN</td>\n",
       "      <td>2017.0</td>\n",
       "      <td>Norse Mythology</td>\n",
       "      <td>Neil Gaiman</td>\n",
       "      <td>179</td>\n",
       "      <td>974</td>\n",
       "      <td>6943</td>\n",
       "      <td>17019</td>\n",
       "      <td>14135</td>\n",
       "    </tr>\n",
       "    <tr>\n",
       "      <th>8684</th>\n",
       "      <td>125011117X</td>\n",
       "      <td>2017.0</td>\n",
       "      <td>Behind Her Eyes</td>\n",
       "      <td>Sarah Pinborough</td>\n",
       "      <td>658</td>\n",
       "      <td>1876</td>\n",
       "      <td>5082</td>\n",
       "      <td>8228</td>\n",
       "      <td>5769</td>\n",
       "    </tr>\n",
       "  </tbody>\n",
       "</table>\n",
       "</div>"
      ],
      "text/plain": [
       "     ISBN Number  Publication Year                      Title  \\\n",
       "7372  1408857901            2017.0  A Court of Wings and Ruin   \n",
       "9391   812995341            2017.0       Lincoln in the Bardo   \n",
       "7559  1250095255            2017.0                    Caraval   \n",
       "5883         NaN            2017.0            Norse Mythology   \n",
       "8684  125011117X            2017.0            Behind Her Eyes   \n",
       "\n",
       "             Author(s)  Rating 1  Rating 2  Rating 3  Rating 4  Rating 5  \n",
       "7372     Sarah J. Maas       463      1289      5123     15585     46370  \n",
       "9391   George Saunders       996      1809      4186      7887      9135  \n",
       "7559  Stephanie Garber       831      2531      7001     12105     13353  \n",
       "5883       Neil Gaiman       179       974      6943     17019     14135  \n",
       "8684  Sarah Pinborough       658      1876      5082      8228      5769  "
      ]
     },
     "execution_count": 7,
     "metadata": {},
     "output_type": "execute_result"
    }
   ],
   "source": [
    "namedBookDF = namedBookDF.sort_values(by='Publication Year', ascending=False)\n",
    "namedBookDF.head()"
   ]
  },
  {
   "cell_type": "code",
   "execution_count": null,
   "metadata": {},
   "outputs": [],
   "source": []
  },
  {
   "cell_type": "code",
   "execution_count": null,
   "metadata": {},
   "outputs": [],
   "source": [
    "totalReviews = len(namedBookDF) * 5\n",
    "totalReviews"
   ]
  },
  {
   "cell_type": "code",
   "execution_count": null,
   "metadata": {},
   "outputs": [],
   "source": [
    "# Push the remade DataFrame to a new CSV file\n",
    "namedBookDF.to_csv(\"Output/namedBookDF.csv\", index=False, header=True)"
   ]
  }
 ],
 "metadata": {
  "kernelspec": {
   "display_name": "Python 3",
   "language": "python",
   "name": "python3"
  },
  "language_info": {
   "codemirror_mode": {
    "name": "ipython",
    "version": 3
   },
   "file_extension": ".py",
   "mimetype": "text/x-python",
   "name": "python",
   "nbconvert_exporter": "python",
   "pygments_lexer": "ipython3",
   "version": "3.7.1"
  }
 },
 "nbformat": 4,
 "nbformat_minor": 2
}
